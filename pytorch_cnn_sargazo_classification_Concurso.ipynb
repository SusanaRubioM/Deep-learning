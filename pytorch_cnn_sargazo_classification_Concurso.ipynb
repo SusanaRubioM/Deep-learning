{
  "cells": [
    {
      "cell_type": "markdown",
      "metadata": {
        "id": "uH5kphEw5Xf9"
      },
      "source": [
        "# Clasificación de Sargazo\n",
        "\n",
        "Notebook inicial para clasificar el nivel de sargazon en imágenes de la playa. Tu puedes dividir el conjunto de datos entre entrenamiento y validación."
      ]
    },
    {
      "cell_type": "code",
      "execution_count": null,
      "metadata": {
        "colab": {
          "base_uri": "https://localhost:8080/"
        },
        "id": "6zNLdMTN5XgA",
        "outputId": "5b21d211-efc8-4308-9d01-59f9c672a07b"
      },
      "outputs": [
        {
          "output_type": "stream",
          "name": "stdout",
          "text": [
            "cuda:0\n",
            "Torch version:  2.1.0+cu121\n",
            "Torchvision version:  0.16.0+cu121\n",
            "Python 3.10.12\n"
          ]
        }
      ],
      "source": [
        "import numpy as np\n",
        "import pandas as pd #Dataframes\n",
        "import matplotlib.pyplot as plt\n",
        "from skimage import io, transform #procesamiento de imagenes y transformaciones de imagenes\n",
        "from PIL import Image  #procesamiento de imagenes, manipulación de imagenes\n",
        "import os #permite manipular rutas de archivos y directorios\n",
        "import time #medir tiempo de ejecuciones\n",
        "import copy\n",
        "\n",
        "from torch.utils.data import Dataset, DataLoader\n",
        "import torch\n",
        "import torch.nn as nn #redes neuronales\n",
        "import torchvision #harramientas y conjuntos de datos para visión por computadora\n",
        "from torch.autograd import Variable #rastrear operaciones y calcular automaticamente los gradientes durante la retropropagación\n",
        "from torchvision import datasets, models, transforms, utils\n",
        "import torch.optim as optim #algoritmos de optimizacion para actualizar pesos\n",
        "import sklearn\n",
        "import sklearn.model_selection as skl\n",
        "import seaborn as sn #permite visualización de datos mediante la creacion de graficos\n",
        "%matplotlib inline\n",
        "use_gpu = torch.cuda.is_available()\n",
        "device = torch.device(\"cuda:0\" if torch.cuda.is_available() else \"cpu\")\n",
        "\n",
        "# Assume that we are on a CUDA machine, then this should print a CUDA device:\n",
        "print(device)\n",
        "print(\"Torch version: \", torch.__version__)\n",
        "print(\"Torchvision version: \", torchvision.__version__)\n",
        "!python --version"
      ]
    },
    {
      "cell_type": "code",
      "execution_count": null,
      "metadata": {
        "colab": {
          "base_uri": "https://localhost:8080/"
        },
        "id": "Kj15sdXd5XgC",
        "outputId": "4a67bbc1-20a6-4f34-cc87-1549a14d39f2"
      },
      "outputs": [
        {
          "output_type": "stream",
          "name": "stdout",
          "text": [
            "Mounted at /content/drive\n",
            "w_vgg_pret_True_feat_False_lr_0.001\n"
          ]
        }
      ],
      "source": [
        "from google.colab import drive\n",
        "\n",
        "# Montar Google Drive\n",
        "drive.mount('/content/drive')\n",
        "\n",
        "# Directorio de la carpeta \"sargazo\" donde está el dataset en Google Drive\n",
        "sargazo_folder = '/content/drive/My Drive/redes_sargazo'\n",
        "img_folder = f'{sargazo_folder}/images'\n",
        "csv_file = f'{sargazo_folder}/train.csv'\n",
        "\n",
        "# Hyper parameters\n",
        "epochs = 25\n",
        "current_epoch = 0\n",
        "batch_size = 32\n",
        "learning_rate = 0.001\n",
        "run_training = True #Si deseamos que el notebook ejecute el entrenamiento\n",
        "model_name = 'vgg' # Red a cargar\n",
        "pretrained = True # True indica que la red se va a inicializar con los parámetros entrenados\n",
        "feature_extract = False #True indica que no se actualizan los parámetros\n",
        "save_weights = True\n",
        "\n",
        "wts_str = 'w_' + model_name + '_pret_' + str(pretrained) + '_feat_' + str(feature_extract) + '_lr_'+ str(learning_rate)\n",
        "print(wts_str)"
      ]
    },
    {
      "cell_type": "code",
      "execution_count": null,
      "metadata": {
        "colab": {
          "base_uri": "https://localhost:8080/"
        },
        "id": "9AQfCyfJ6WaE",
        "outputId": "2248c4d7-2c7c-4ccb-d024-1b57d4bb6867"
      },
      "outputs": [
        {
          "output_type": "stream",
          "name": "stdout",
          "text": [
            "Drive already mounted at /content/drive; to attempt to forcibly remount, call drive.mount(\"/content/drive\", force_remount=True).\n"
          ]
        }
      ],
      "source": [
        "from google.colab import drive\n",
        "drive.mount('/content/drive')"
      ]
    },
    {
      "cell_type": "markdown",
      "metadata": {
        "id": "JY0MJOEV5XgD"
      },
      "source": [
        "## Objeto Dataset"
      ]
    },
    {
      "cell_type": "code",
      "execution_count": null,
      "metadata": {
        "id": "DoRYiZou5XgD"
      },
      "outputs": [],
      "source": [
        "class SargazoDataset(Dataset):\n",
        "    def __init__(self, dataframe, images_path, transform=None):\n",
        "        \"\"\"\n",
        "        Args:\n",
        "            txt_frame_file (string): Path to the txt files with labels.\n",
        "            images_path (string): Directory with all the images.\n",
        "            transform (callable, optional): Optional transform to be applied\n",
        "                on a sample.\n",
        "        \"\"\"\n",
        "        self.sargazo_frame = dataframe\n",
        "        self.root_dir = images_path\n",
        "        self.transform = transform\n",
        "        self.class2id = test_count = {'nada': 0, 'bajo': 1, 'moderado': 2, 'abundante': 3, 'excesivo': 4}\n",
        "\n",
        "    def pil_loader(self, path): #cargamos una imagen dada su ruta\n",
        "        with open(path, 'rb') as f:\n",
        "            img = Image.open(f)\n",
        "            return img.convert('RGB')\n",
        "\n",
        "    def __len__(self): #longitud total de conjunto de datos\n",
        "        return len(self.sargazo_frame)\n",
        "\n",
        "    def __getitem__(self, idx): # obtiene un elemento del conjunto de datos\n",
        "        if torch.is_tensor(idx):\n",
        "            idx = idx.tolist()\n",
        "\n",
        "        # cuidado si cambia la tabla se debe de cambiar esto\n",
        "        image_path = os.path.join(self.root_dir, self.sargazo_frame.iloc[idx, 1])\n",
        "\n",
        "        image = self.pil_loader(image_path) #carga la imagen\n",
        "\n",
        "        try:\n",
        "            label = self.sargazo_frame.iloc[idx, 4]\n",
        "        except:\n",
        "            label = 'unknown'\n",
        "\n",
        "        if self.transform is not None:\n",
        "            image = self.transform(image) #preprocesamiento de imagenes\n",
        "\n",
        "        sample = (image, self.class2id[label]) #imagen, etiqueta con su correspondiente identificador\n",
        "\n",
        "        return sample"
      ]
    },
    {
      "cell_type": "markdown",
      "metadata": {
        "id": "l0iuT76P5XgE"
      },
      "source": [
        "## Dividir conjunto de datos"
      ]
    },
    {
      "cell_type": "code",
      "execution_count": null,
      "metadata": {
        "colab": {
          "base_uri": "https://localhost:8080/"
        },
        "id": "2b2KxkZm5XgE",
        "outputId": "9b8d240d-149f-4b38-f864-8ea2c01e7578"
      },
      "outputs": [
        {
          "output_type": "stream",
          "name": "stdout",
          "text": [
            "excesivo\n"
          ]
        }
      ],
      "source": [
        "class2id = test_count = {'nada': 0, 'bajo': 1, 'moderado': 2, 'abundante': 3, 'excesivo': 4}\n",
        "id2class = {0: 'nada', 1: 'bajo', 2: 'moderado', 3: 'abundante', 4: 'excesivo'}\n",
        "num_classes = len(id2class)\n",
        "\n",
        "full_dataset = pd.read_csv(csv_file) #utilizando pandas se lee el archivo\n",
        "full_dataset.sample(5)\n",
        "\n",
        "print(full_dataset.iloc[0, 1]) #imprime una muestra aleatoria de 2 filas"
      ]
    },
    {
      "cell_type": "code",
      "execution_count": null,
      "metadata": {
        "colab": {
          "base_uri": "https://localhost:8080/"
        },
        "id": "0ZnAzR835XgE",
        "outputId": "64875c43-9820-4dc5-be64-6b208b57b208"
      },
      "outputs": [
        {
          "output_type": "stream",
          "name": "stdout",
          "text": [
            "Número de ejemplos: 1196\n"
          ]
        }
      ],
      "source": [
        "col_labels = 'Category'\n",
        "random = 46 # for reproducible experiments\n",
        "train_df, valid_df = skl.train_test_split(full_dataset, test_size = 0.2, stratify = full_dataset[col_labels], random_state = random)\n",
        "#division de datos en conjuntos de entrenamiento y validacion\n",
        "\n",
        "#creación de instancias\n",
        "training_dataset = SargazoDataset(train_df, img_folder)\n",
        "test_dataset = SargazoDataset(valid_df, img_folder)\n",
        "print(\"Número de ejemplos:\", len(training_dataset)) #imprime la cantidad de datos\n",
        "\n",
        "def show_image(image, label):\n",
        "    plt.imshow(image, cmap = 'gray')\n",
        "    plt.pause(0.001)  # pause a bit so that plots are updated"
      ]
    },
    {
      "cell_type": "markdown",
      "metadata": {
        "id": "LnqW2OmA5XgF"
      },
      "source": [
        "## Mostrar unos ejemplos"
      ]
    },
    {
      "cell_type": "code",
      "execution_count": null,
      "metadata": {
        "colab": {
          "base_uri": "https://localhost:8080/",
          "height": 407
        },
        "id": "0BSlsxXr5XgF",
        "outputId": "e3afdb7a-8cf6-41e6-c4cf-0987adff69ca"
      },
      "outputs": [
        {
          "output_type": "error",
          "ename": "FileNotFoundError",
          "evalue": "[Errno 2] No such file or directory: '/content/drive/My Drive/redes_sargazo/images/nada'",
          "traceback": [
            "\u001b[0;31m---------------------------------------------------------------------------\u001b[0m",
            "\u001b[0;31mFileNotFoundError\u001b[0m                         Traceback (most recent call last)",
            "\u001b[0;32m<ipython-input-11-46062d3ea3bd>\u001b[0m in \u001b[0;36m<cell line: 3>\u001b[0;34m()\u001b[0m\n\u001b[1;32m      2\u001b[0m \u001b[0;34m\u001b[0m\u001b[0m\n\u001b[1;32m      3\u001b[0m \u001b[0;32mfor\u001b[0m \u001b[0mi\u001b[0m \u001b[0;32min\u001b[0m \u001b[0mrange\u001b[0m\u001b[0;34m(\u001b[0m\u001b[0mlen\u001b[0m\u001b[0;34m(\u001b[0m\u001b[0mfull_dataset\u001b[0m\u001b[0;34m)\u001b[0m\u001b[0;34m)\u001b[0m\u001b[0;34m:\u001b[0m\u001b[0;34m\u001b[0m\u001b[0;34m\u001b[0m\u001b[0m\n\u001b[0;32m----> 4\u001b[0;31m     \u001b[0msample\u001b[0m \u001b[0;34m=\u001b[0m \u001b[0mtraining_dataset\u001b[0m\u001b[0;34m[\u001b[0m\u001b[0mi\u001b[0m\u001b[0;34m]\u001b[0m\u001b[0;34m\u001b[0m\u001b[0;34m\u001b[0m\u001b[0m\n\u001b[0m\u001b[1;32m      5\u001b[0m     \u001b[0mimage\u001b[0m\u001b[0;34m,\u001b[0m \u001b[0mlabel\u001b[0m \u001b[0;34m=\u001b[0m \u001b[0msample\u001b[0m\u001b[0;34m\u001b[0m\u001b[0;34m\u001b[0m\u001b[0m\n\u001b[1;32m      6\u001b[0m \u001b[0;34m\u001b[0m\u001b[0m\n",
            "\u001b[0;32m<ipython-input-4-3cdcb3479ef7>\u001b[0m in \u001b[0;36m__getitem__\u001b[0;34m(self, idx)\u001b[0m\n\u001b[1;32m     28\u001b[0m         \u001b[0mimage_path\u001b[0m \u001b[0;34m=\u001b[0m \u001b[0mos\u001b[0m\u001b[0;34m.\u001b[0m\u001b[0mpath\u001b[0m\u001b[0;34m.\u001b[0m\u001b[0mjoin\u001b[0m\u001b[0;34m(\u001b[0m\u001b[0mself\u001b[0m\u001b[0;34m.\u001b[0m\u001b[0mroot_dir\u001b[0m\u001b[0;34m,\u001b[0m \u001b[0mself\u001b[0m\u001b[0;34m.\u001b[0m\u001b[0msargazo_frame\u001b[0m\u001b[0;34m.\u001b[0m\u001b[0miloc\u001b[0m\u001b[0;34m[\u001b[0m\u001b[0midx\u001b[0m\u001b[0;34m,\u001b[0m \u001b[0;36m1\u001b[0m\u001b[0;34m]\u001b[0m\u001b[0;34m)\u001b[0m\u001b[0;34m\u001b[0m\u001b[0;34m\u001b[0m\u001b[0m\n\u001b[1;32m     29\u001b[0m \u001b[0;34m\u001b[0m\u001b[0m\n\u001b[0;32m---> 30\u001b[0;31m         \u001b[0mimage\u001b[0m \u001b[0;34m=\u001b[0m \u001b[0mself\u001b[0m\u001b[0;34m.\u001b[0m\u001b[0mpil_loader\u001b[0m\u001b[0;34m(\u001b[0m\u001b[0mimage_path\u001b[0m\u001b[0;34m)\u001b[0m \u001b[0;31m#carga la imagen\u001b[0m\u001b[0;34m\u001b[0m\u001b[0;34m\u001b[0m\u001b[0m\n\u001b[0m\u001b[1;32m     31\u001b[0m \u001b[0;34m\u001b[0m\u001b[0m\n\u001b[1;32m     32\u001b[0m         \u001b[0;32mtry\u001b[0m\u001b[0;34m:\u001b[0m\u001b[0;34m\u001b[0m\u001b[0;34m\u001b[0m\u001b[0m\n",
            "\u001b[0;32m<ipython-input-4-3cdcb3479ef7>\u001b[0m in \u001b[0;36mpil_loader\u001b[0;34m(self, path)\u001b[0m\n\u001b[1;32m     14\u001b[0m \u001b[0;34m\u001b[0m\u001b[0m\n\u001b[1;32m     15\u001b[0m     \u001b[0;32mdef\u001b[0m \u001b[0mpil_loader\u001b[0m\u001b[0;34m(\u001b[0m\u001b[0mself\u001b[0m\u001b[0;34m,\u001b[0m \u001b[0mpath\u001b[0m\u001b[0;34m)\u001b[0m\u001b[0;34m:\u001b[0m \u001b[0;31m#cargamos una imagen dada su ruta\u001b[0m\u001b[0;34m\u001b[0m\u001b[0;34m\u001b[0m\u001b[0m\n\u001b[0;32m---> 16\u001b[0;31m         \u001b[0;32mwith\u001b[0m \u001b[0mopen\u001b[0m\u001b[0;34m(\u001b[0m\u001b[0mpath\u001b[0m\u001b[0;34m,\u001b[0m \u001b[0;34m'rb'\u001b[0m\u001b[0;34m)\u001b[0m \u001b[0;32mas\u001b[0m \u001b[0mf\u001b[0m\u001b[0;34m:\u001b[0m\u001b[0;34m\u001b[0m\u001b[0;34m\u001b[0m\u001b[0m\n\u001b[0m\u001b[1;32m     17\u001b[0m             \u001b[0mimg\u001b[0m \u001b[0;34m=\u001b[0m \u001b[0mImage\u001b[0m\u001b[0;34m.\u001b[0m\u001b[0mopen\u001b[0m\u001b[0;34m(\u001b[0m\u001b[0mf\u001b[0m\u001b[0;34m)\u001b[0m\u001b[0;34m\u001b[0m\u001b[0;34m\u001b[0m\u001b[0m\n\u001b[1;32m     18\u001b[0m             \u001b[0;32mreturn\u001b[0m \u001b[0mimg\u001b[0m\u001b[0;34m.\u001b[0m\u001b[0mconvert\u001b[0m\u001b[0;34m(\u001b[0m\u001b[0;34m'RGB'\u001b[0m\u001b[0;34m)\u001b[0m\u001b[0;34m\u001b[0m\u001b[0;34m\u001b[0m\u001b[0m\n",
            "\u001b[0;31mFileNotFoundError\u001b[0m: [Errno 2] No such file or directory: '/content/drive/My Drive/redes_sargazo/images/nada'"
          ]
        },
        {
          "output_type": "display_data",
          "data": {
            "text/plain": [
              "<Figure size 640x480 with 0 Axes>"
            ]
          },
          "metadata": {}
        }
      ],
      "source": [
        "fig = plt.figure()\n",
        "\n",
        "for i in range(len(full_dataset)):\n",
        "    sample = training_dataset[i]\n",
        "    image, label = sample\n",
        "\n",
        "    ax = plt.subplot(1, 4, i + 1)\n",
        "    plt.tight_layout()\n",
        "    ax.set_title('Sample #{} Class {}'.format(i, id2class[label]))\n",
        "    ax.axis('off')\n",
        "    show_image(image, label)\n",
        "\n",
        "    if i == 3:\n",
        "        plt.show()\n",
        "        break"
      ]
    },
    {
      "cell_type": "markdown",
      "metadata": {
        "id": "DkNpTdfe5XgF"
      },
      "source": [
        "## Descenso por gradiente\n",
        "\n",
        "Implementación del descenso por gradiente."
      ]
    },
    {
      "cell_type": "code",
      "execution_count": null,
      "metadata": {
        "id": "RPvUkDoZ5XgG"
      },
      "outputs": [],
      "source": [
        "def train_model(model, dataloaders, criterion, optimizer, num_epochs = 25, is_inception= False, save_after = 100):\n",
        "    since = time.time() #tiempo del entrenamiento\n",
        "\n",
        "    val_acc_history = []\n",
        "    train_acc_history = []\n",
        "    val_loss_history = []\n",
        "    train_loss_history = []\n",
        "\n",
        "    best_model_wts = copy.deepcopy(model.state_dict())\n",
        "    best_acc = 0.0 #mejor precision\n",
        "\n",
        "    #print(device)\n",
        "\n",
        "    for epoch in range(num_epochs):\n",
        "        print('Epoch {}/{}'.format(epoch, num_epochs -1))\n",
        "\n",
        "        #Each epoch as a training and validation phase\n",
        "        for phase in ['train', 'val']:\n",
        "            if phase == 'train':\n",
        "                model.train()\n",
        "            else:\n",
        "                model.eval()\n",
        "\n",
        "            running_loss = 0.0\n",
        "            running_corrects = 0\n",
        "\n",
        "            # Iterate over data iteracion sobre lotes de datos\n",
        "            for inputs, labels in iter(dataloaders[phase]):\n",
        "                #print(inputs)\n",
        "                #print(labels)\n",
        "                inputs = inputs.to(device)\n",
        "                labels = labels.to(device)\n",
        "\n",
        "                #zero the parameter gradients\n",
        "                optimizer.zero_grad()\n",
        "\n",
        "                #forward\n",
        "                # track history\n",
        "                with torch.set_grad_enabled(phase == 'train'):\n",
        "\n",
        "                    if is_inception and phase == 'train':\n",
        "                        outputs, aux_outputs = model(inputs)\n",
        "                        loss1 = criterion(outputs, labels)\n",
        "                        loss2 = criterion(aux_outputs, labels)\n",
        "                        loss = loss1 + 0.4*loss2\n",
        "\n",
        "                    else:\n",
        "                        outputs = model(inputs)\n",
        "                        loss = criterion(outputs, labels)\n",
        "\n",
        "                    _, preds = torch.max(outputs, 1)\n",
        "\n",
        "                    if phase == 'train':\n",
        "                        loss.backward()\n",
        "                        optimizer.step()\n",
        "\n",
        "                #statistics\n",
        "                running_loss += loss.item() * inputs.size(0)\n",
        "                running_corrects += torch.sum(preds == labels.data)\n",
        "\n",
        "            epoch_loss = running_loss /len(dataloaders[phase].dataset)\n",
        "            epoch_acc = running_corrects.double() / len(dataloaders[phase].dataset)\n",
        "\n",
        "            print('{} Loss: {:.4f} Acc: {:.4f}'.format(phase, epoch_loss, epoch_acc))\n",
        "\n",
        "            # deep copy the model\n",
        "            if phase == 'val' and epoch_acc > best_acc:\n",
        "                best_acc = epoch_acc\n",
        "                best_model_wts = copy.deepcopy(model.state_dict())\n",
        "                torch.save(model.state_dict(), wts_str + '_best.pt')\n",
        "            if phase == 'val':\n",
        "                val_acc_history.append(epoch_acc)\n",
        "                val_loss_history.append(epoch_loss)\n",
        "            else:\n",
        "                train_acc_history.append(epoch_acc)\n",
        "                train_loss_history.append(epoch_loss)\n",
        "\n",
        "            if phase == 'train' and epoch % save_after == 0 :\n",
        "                torch.save(model.state_dict(), wts_str + '_epoch' + str(epoch) + '.pt')\n",
        "        print()\n",
        "\n",
        "    time_elapsed = time.time() - since\n",
        "    print('Training complete in {:.0f}m {:.0f}s'.format(time_elapsed // 60, time_elapsed % 60))\n",
        "    print('Best val Acc: {:.4f}'.format(best_acc))\n",
        "\n",
        "    #load the best model\n",
        "    model.load_state_dict(best_model_wts)\n",
        "    return model, val_acc_history, train_acc_history, val_loss_history, train_loss_history"
      ]
    },
    {
      "cell_type": "code",
      "execution_count": null,
      "metadata": {
        "id": "KACbKSOQ5XgG"
      },
      "outputs": [],
      "source": [
        "# set model parameters\n",
        "def set_parameter_requires_grad(model, feature_extracting):\n",
        "    if feature_extracting:\n",
        "        for param in model.parameters():\n",
        "            # Freeze parameters\n",
        "            param.requires_grad = False"
      ]
    },
    {
      "cell_type": "markdown",
      "metadata": {
        "id": "x-04jaAw5XgG"
      },
      "source": [
        "## Crear modelo de red neuronal"
      ]
    },
    {
      "cell_type": "code",
      "execution_count": null,
      "metadata": {
        "colab": {
          "base_uri": "https://localhost:8080/"
        },
        "id": "zDRY2Fzy5XgG",
        "outputId": "5e120f55-edff-4a44-90eb-42c544169210"
      },
      "outputs": [
        {
          "output_type": "stream",
          "name": "stderr",
          "text": [
            "/usr/local/lib/python3.10/dist-packages/torchvision/models/_utils.py:208: UserWarning: The parameter 'pretrained' is deprecated since 0.13 and may be removed in the future, please use 'weights' instead.\n",
            "  warnings.warn(\n",
            "/usr/local/lib/python3.10/dist-packages/torchvision/models/_utils.py:223: UserWarning: Arguments other than a weight enum or `None` for 'weights' are deprecated since 0.13 and may be removed in the future. The current behavior is equivalent to passing `weights=VGG16_Weights.IMAGENET1K_V1`. You can also use `weights=VGG16_Weights.DEFAULT` to get the most up-to-date weights.\n",
            "  warnings.warn(msg)\n",
            "Downloading: \"https://download.pytorch.org/models/vgg16-397923af.pth\" to /root/.cache/torch/hub/checkpoints/vgg16-397923af.pth\n",
            "100%|██████████| 528M/528M [00:07<00:00, 72.4MB/s]\n"
          ]
        },
        {
          "output_type": "stream",
          "name": "stdout",
          "text": [
            "VGG(\n",
            "  (features): Sequential(\n",
            "    (0): Conv2d(3, 64, kernel_size=(3, 3), stride=(1, 1), padding=(1, 1))\n",
            "    (1): ReLU(inplace=True)\n",
            "    (2): Conv2d(64, 64, kernel_size=(3, 3), stride=(1, 1), padding=(1, 1))\n",
            "    (3): ReLU(inplace=True)\n",
            "    (4): MaxPool2d(kernel_size=2, stride=2, padding=0, dilation=1, ceil_mode=False)\n",
            "    (5): Conv2d(64, 128, kernel_size=(3, 3), stride=(1, 1), padding=(1, 1))\n",
            "    (6): ReLU(inplace=True)\n",
            "    (7): Conv2d(128, 128, kernel_size=(3, 3), stride=(1, 1), padding=(1, 1))\n",
            "    (8): ReLU(inplace=True)\n",
            "    (9): MaxPool2d(kernel_size=2, stride=2, padding=0, dilation=1, ceil_mode=False)\n",
            "    (10): Conv2d(128, 256, kernel_size=(3, 3), stride=(1, 1), padding=(1, 1))\n",
            "    (11): ReLU(inplace=True)\n",
            "    (12): Conv2d(256, 256, kernel_size=(3, 3), stride=(1, 1), padding=(1, 1))\n",
            "    (13): ReLU(inplace=True)\n",
            "    (14): Conv2d(256, 256, kernel_size=(3, 3), stride=(1, 1), padding=(1, 1))\n",
            "    (15): ReLU(inplace=True)\n",
            "    (16): MaxPool2d(kernel_size=2, stride=2, padding=0, dilation=1, ceil_mode=False)\n",
            "    (17): Conv2d(256, 512, kernel_size=(3, 3), stride=(1, 1), padding=(1, 1))\n",
            "    (18): ReLU(inplace=True)\n",
            "    (19): Conv2d(512, 512, kernel_size=(3, 3), stride=(1, 1), padding=(1, 1))\n",
            "    (20): ReLU(inplace=True)\n",
            "    (21): Conv2d(512, 512, kernel_size=(3, 3), stride=(1, 1), padding=(1, 1))\n",
            "    (22): ReLU(inplace=True)\n",
            "    (23): MaxPool2d(kernel_size=2, stride=2, padding=0, dilation=1, ceil_mode=False)\n",
            "    (24): Conv2d(512, 512, kernel_size=(3, 3), stride=(1, 1), padding=(1, 1))\n",
            "    (25): ReLU(inplace=True)\n",
            "    (26): Conv2d(512, 512, kernel_size=(3, 3), stride=(1, 1), padding=(1, 1))\n",
            "    (27): ReLU(inplace=True)\n",
            "    (28): Conv2d(512, 512, kernel_size=(3, 3), stride=(1, 1), padding=(1, 1))\n",
            "    (29): ReLU(inplace=True)\n",
            "    (30): MaxPool2d(kernel_size=2, stride=2, padding=0, dilation=1, ceil_mode=False)\n",
            "  )\n",
            "  (avgpool): AdaptiveAvgPool2d(output_size=(7, 7))\n",
            "  (classifier): Sequential(\n",
            "    (0): Linear(in_features=25088, out_features=4096, bias=True)\n",
            "    (1): ReLU(inplace=True)\n",
            "    (2): Dropout(p=0.5, inplace=False)\n",
            "    (3): Linear(in_features=4096, out_features=4096, bias=True)\n",
            "    (4): ReLU(inplace=True)\n",
            "    (5): Dropout(p=0.5, inplace=False)\n",
            "    (6): Linear(in_features=4096, out_features=5, bias=True)\n",
            "  )\n",
            ")\n"
          ]
        },
        {
          "output_type": "execute_result",
          "data": {
            "text/plain": [
              "VGG(\n",
              "  (features): Sequential(\n",
              "    (0): Conv2d(3, 64, kernel_size=(3, 3), stride=(1, 1), padding=(1, 1))\n",
              "    (1): ReLU(inplace=True)\n",
              "    (2): Conv2d(64, 64, kernel_size=(3, 3), stride=(1, 1), padding=(1, 1))\n",
              "    (3): ReLU(inplace=True)\n",
              "    (4): MaxPool2d(kernel_size=2, stride=2, padding=0, dilation=1, ceil_mode=False)\n",
              "    (5): Conv2d(64, 128, kernel_size=(3, 3), stride=(1, 1), padding=(1, 1))\n",
              "    (6): ReLU(inplace=True)\n",
              "    (7): Conv2d(128, 128, kernel_size=(3, 3), stride=(1, 1), padding=(1, 1))\n",
              "    (8): ReLU(inplace=True)\n",
              "    (9): MaxPool2d(kernel_size=2, stride=2, padding=0, dilation=1, ceil_mode=False)\n",
              "    (10): Conv2d(128, 256, kernel_size=(3, 3), stride=(1, 1), padding=(1, 1))\n",
              "    (11): ReLU(inplace=True)\n",
              "    (12): Conv2d(256, 256, kernel_size=(3, 3), stride=(1, 1), padding=(1, 1))\n",
              "    (13): ReLU(inplace=True)\n",
              "    (14): Conv2d(256, 256, kernel_size=(3, 3), stride=(1, 1), padding=(1, 1))\n",
              "    (15): ReLU(inplace=True)\n",
              "    (16): MaxPool2d(kernel_size=2, stride=2, padding=0, dilation=1, ceil_mode=False)\n",
              "    (17): Conv2d(256, 512, kernel_size=(3, 3), stride=(1, 1), padding=(1, 1))\n",
              "    (18): ReLU(inplace=True)\n",
              "    (19): Conv2d(512, 512, kernel_size=(3, 3), stride=(1, 1), padding=(1, 1))\n",
              "    (20): ReLU(inplace=True)\n",
              "    (21): Conv2d(512, 512, kernel_size=(3, 3), stride=(1, 1), padding=(1, 1))\n",
              "    (22): ReLU(inplace=True)\n",
              "    (23): MaxPool2d(kernel_size=2, stride=2, padding=0, dilation=1, ceil_mode=False)\n",
              "    (24): Conv2d(512, 512, kernel_size=(3, 3), stride=(1, 1), padding=(1, 1))\n",
              "    (25): ReLU(inplace=True)\n",
              "    (26): Conv2d(512, 512, kernel_size=(3, 3), stride=(1, 1), padding=(1, 1))\n",
              "    (27): ReLU(inplace=True)\n",
              "    (28): Conv2d(512, 512, kernel_size=(3, 3), stride=(1, 1), padding=(1, 1))\n",
              "    (29): ReLU(inplace=True)\n",
              "    (30): MaxPool2d(kernel_size=2, stride=2, padding=0, dilation=1, ceil_mode=False)\n",
              "  )\n",
              "  (avgpool): AdaptiveAvgPool2d(output_size=(7, 7))\n",
              "  (classifier): Sequential(\n",
              "    (0): Linear(in_features=25088, out_features=4096, bias=True)\n",
              "    (1): ReLU(inplace=True)\n",
              "    (2): Dropout(p=0.5, inplace=False)\n",
              "    (3): Linear(in_features=4096, out_features=4096, bias=True)\n",
              "    (4): ReLU(inplace=True)\n",
              "    (5): Dropout(p=0.5, inplace=False)\n",
              "    (6): Linear(in_features=4096, out_features=5, bias=True)\n",
              "  )\n",
              ")"
            ]
          },
          "metadata": {},
          "execution_count": 23
        }
      ],
      "source": [
        "# Initialize and reshape the networks\n",
        "def initialize_model(model_name, num_classes, feature_extract, use_pretrained=True):\n",
        "    # Initialize these variables which will be set in this if statement. Each of these\n",
        "    #   variables is model specific.\n",
        "    model_ft = None\n",
        "    input_size = 0\n",
        "\n",
        "    if model_name == \"resnet\":\n",
        "        \"\"\" Resnet18\n",
        "        \"\"\"\n",
        "        model_ft = models.resnet18(pretrained=use_pretrained)\n",
        "        set_parameter_requires_grad(model_ft, feature_extract)\n",
        "        num_ftrs = model_ft.fc.in_features\n",
        "        model_ft.fc = nn.Linear(num_ftrs, num_classes)\n",
        "        input_size = 224\n",
        "\n",
        "    elif model_name == \"alexnet\":\n",
        "        \"\"\" Alexnet\n",
        "        \"\"\"\n",
        "        model_ft = models.alexnet(pretrained=use_pretrained)\n",
        "        set_parameter_requires_grad(model_ft, feature_extract)\n",
        "        num_ftrs = model_ft.classifier[6].in_features\n",
        "        model_ft.classifier[6] = nn.Linear(num_ftrs,num_classes)\n",
        "        input_size = 224\n",
        "\n",
        "    elif model_name == \"vgg\":\n",
        "        \"\"\" VGG16\n",
        "        \"\"\"\n",
        "        model_ft = models.vgg16(pretrained=use_pretrained)\n",
        "        #model_ft = models.vgg16(weights='IMAGENET1K_V1')\n",
        "        set_parameter_requires_grad(model_ft, feature_extract)\n",
        "        num_ftrs = model_ft.classifier[6].in_features\n",
        "        model_ft.classifier[6] = nn.Linear(num_ftrs,num_classes)\n",
        "        input_size = 224\n",
        "\n",
        "    elif model_name == \"squeezenet\":\n",
        "        \"\"\" Squeezenet\n",
        "        \"\"\"\n",
        "        model_ft = models.squeezenet1_0(pretrained=use_pretrained)\n",
        "        set_parameter_requires_grad(model_ft, feature_extract)\n",
        "        model_ft.classifier[1] = nn.Conv2d(512, num_classes, kernel_size=(1,1), stride=(1,1))\n",
        "        model_ft.num_classes = num_classes\n",
        "        input_size = 224\n",
        "\n",
        "    elif model_name == \"densenet\":\n",
        "        \"\"\" Densenet\n",
        "        \"\"\"\n",
        "        model_ft = models.densenet121(pretrained=use_pretrained)\n",
        "        set_parameter_requires_grad(model_ft, feature_extract)\n",
        "        num_ftrs = model_ft.classifier.in_features\n",
        "        model_ft.classifier = nn.Linear(num_ftrs, num_classes)\n",
        "        input_size = 224\n",
        "\n",
        "    elif model_name == \"inception\":\n",
        "        \"\"\" Inception v3\n",
        "        Be careful, expects (299,299) sized images and has auxiliary output\n",
        "        \"\"\"\n",
        "        model_ft = models.inception_v3(pretrained=use_pretrained)\n",
        "        set_parameter_requires_grad(model_ft, feature_extract)\n",
        "        # Handle the auxilary net\n",
        "        num_ftrs = model_ft.AuxLogits.fc.in_features\n",
        "        model_ft.AuxLogits.fc = nn.Linear(num_ftrs, num_classes)\n",
        "        # Handle the primary net\n",
        "        num_ftrs = model_ft.fc.in_features\n",
        "        model_ft.fc = nn.Linear(num_ftrs,num_classes)\n",
        "        input_size = 299\n",
        "\n",
        "    else:\n",
        "        print(\"Invalid model name, exiting...\")\n",
        "        exit()\n",
        "\n",
        "    return model_ft, input_size\n",
        "\n",
        "# Initialize the model for this run\n",
        "model_ft, input_size = initialize_model(model_name, num_classes, feature_extract, use_pretrained=pretrained)\n",
        "\n",
        "# Print the model we just instantiated\n",
        "print(model_ft)\n",
        "\n",
        "model_ft.to(device)"
      ]
    },
    {
      "cell_type": "markdown",
      "metadata": {
        "id": "kiFX3ImD5XgH"
      },
      "source": [
        "## Entrenamiento"
      ]
    },
    {
      "cell_type": "code",
      "execution_count": null,
      "metadata": {
        "id": "xFWIho3j5XgH"
      },
      "outputs": [],
      "source": [
        "# Data augmentation and normalization for training\n",
        "# Just normalization for validation\n",
        "data_transforms = {\n",
        "    'train': transforms.Compose([\n",
        "        transforms.RandomResizedCrop(input_size),\n",
        "        transforms.RandomHorizontalFlip(),\n",
        "        transforms.ToTensor(),\n",
        "        transforms.Normalize([0.485, 0.456, 0.406], [0.229, 0.224, 0.225])\n",
        "    ]),\n",
        "    'val': transforms.Compose([\n",
        "        transforms.Resize(input_size),\n",
        "        transforms.CenterCrop(input_size),\n",
        "        transforms.ToTensor(),\n",
        "        transforms.Normalize([0.485, 0.456, 0.406], [0.229, 0.224, 0.225])\n",
        "    ]),\n",
        "}"
      ]
    },
    {
      "cell_type": "code",
      "execution_count": null,
      "metadata": {
        "colab": {
          "base_uri": "https://localhost:8080/"
        },
        "id": "2UhnMjng5XgI",
        "outputId": "6ce3ff75-12aa-4a9c-fd12-cc3ade208ef0"
      },
      "outputs": [
        {
          "output_type": "stream",
          "name": "stderr",
          "text": [
            "/usr/local/lib/python3.10/dist-packages/torch/utils/data/dataloader.py:557: UserWarning: This DataLoader will create 4 worker processes in total. Our suggested max number of worker in current system is 2, which is smaller than what this DataLoader is going to create. Please be aware that excessive worker creation might get DataLoader running slow or even freeze, lower the worker number to avoid potential slowness/freeze if necessary.\n",
            "  warnings.warn(_create_warning_msg(\n"
          ]
        }
      ],
      "source": [
        "# configure paths to the description txt file and the images folder\n",
        "#images_path = '../input/sargazo-dataset/sargazo_dataset/images'\n",
        "\n",
        "# Create training and validation datasets\n",
        "image_datasets = {'train': SargazoDataset(train_df, img_folder, data_transforms['train']), 'val': SargazoDataset(valid_df, img_folder, data_transforms['val'])}\n",
        "# Create training and validation dataloaders\n",
        "dataloaders_dict = {x: torch.utils.data.DataLoader(image_datasets[x], batch_size=batch_size, shuffle=True, num_workers=4) for x in ['train', 'val']}"
      ]
    },
    {
      "cell_type": "code",
      "execution_count": null,
      "metadata": {
        "colab": {
          "base_uri": "https://localhost:8080/"
        },
        "id": "DQh3yZIp5XgI",
        "outputId": "96975882-f0d8-4593-f8aa-463d743aeacb"
      },
      "outputs": [
        {
          "output_type": "stream",
          "name": "stdout",
          "text": [
            "Params to learn\n",
            "\t features.0.weight\n",
            "\t features.0.bias\n",
            "\t features.2.weight\n",
            "\t features.2.bias\n",
            "\t features.5.weight\n",
            "\t features.5.bias\n",
            "\t features.7.weight\n",
            "\t features.7.bias\n",
            "\t features.10.weight\n",
            "\t features.10.bias\n",
            "\t features.12.weight\n",
            "\t features.12.bias\n",
            "\t features.14.weight\n",
            "\t features.14.bias\n",
            "\t features.17.weight\n",
            "\t features.17.bias\n",
            "\t features.19.weight\n",
            "\t features.19.bias\n",
            "\t features.21.weight\n",
            "\t features.21.bias\n",
            "\t features.24.weight\n",
            "\t features.24.bias\n",
            "\t features.26.weight\n",
            "\t features.26.bias\n",
            "\t features.28.weight\n",
            "\t features.28.bias\n",
            "\t classifier.0.weight\n",
            "\t classifier.0.bias\n",
            "\t classifier.3.weight\n",
            "\t classifier.3.bias\n",
            "\t classifier.6.weight\n",
            "\t classifier.6.bias\n"
          ]
        }
      ],
      "source": [
        "# create the optimizer\n",
        "model_ft = model_ft.to(device)\n",
        "\n",
        "params_to_update = model_ft.parameters()\n",
        "print(\"Params to learn\")\n",
        "\n",
        "if feature_extract:\n",
        "    params_to_update = []\n",
        "    for name, param in model_ft.named_parameters():\n",
        "        if param.requires_grad == True:\n",
        "            params_to_update.append(param)\n",
        "            print(\"\\t\", name)\n",
        "else:\n",
        "    for name, param in model_ft.named_parameters():\n",
        "        if param.requires_grad == True:\n",
        "            print(\"\\t\", name)\n",
        "\n",
        "optimizer_ft = optim.SGD(params_to_update, lr=learning_rate,momentum=0.9)\n",
        "criterion = nn.CrossEntropyLoss()"
      ]
    },
    {
      "cell_type": "code",
      "execution_count": null,
      "metadata": {
        "id": "jegHQAUC5XgI"
      },
      "outputs": [],
      "source": [
        "#model_ft.load_state_dict(torch.load('w_vgg_pret_True_feat_False_lr_0.001_best.pt'))"
      ]
    },
    {
      "cell_type": "code",
      "execution_count": null,
      "metadata": {
        "colab": {
          "base_uri": "https://localhost:8080/"
        },
        "id": "CNYaNMPg5XgI",
        "outputId": "9db1e974-704c-45db-a9dc-3a8cde79708b"
      },
      "outputs": [
        {
          "output_type": "stream",
          "name": "stdout",
          "text": [
            "Epoch 0/24\n",
            "train Loss: 1.1442 Acc: 0.5460\n",
            "val Loss: 1.0012 Acc: 0.5967\n",
            "\n",
            "Epoch 1/24\n",
            "train Loss: 1.0134 Acc: 0.5962\n",
            "val Loss: 0.8594 Acc: 0.6367\n",
            "\n",
            "Epoch 2/24\n",
            "train Loss: 0.9234 Acc: 0.6321\n",
            "val Loss: 0.8949 Acc: 0.6000\n",
            "\n",
            "Epoch 3/24\n",
            "train Loss: 0.8817 Acc: 0.6572\n",
            "val Loss: 0.7452 Acc: 0.7100\n",
            "\n",
            "Epoch 4/24\n",
            "train Loss: 0.8420 Acc: 0.6538\n",
            "val Loss: 0.7438 Acc: 0.7233\n",
            "\n",
            "Epoch 5/24\n",
            "train Loss: 0.7833 Acc: 0.6923\n",
            "val Loss: 0.7587 Acc: 0.7067\n",
            "\n",
            "Epoch 6/24\n",
            "train Loss: 0.7499 Acc: 0.7140\n",
            "val Loss: 0.7247 Acc: 0.7000\n",
            "\n",
            "Epoch 7/24\n",
            "train Loss: 0.7413 Acc: 0.7149\n",
            "val Loss: 0.7451 Acc: 0.7433\n",
            "\n",
            "Epoch 8/24\n",
            "train Loss: 0.7249 Acc: 0.7283\n",
            "val Loss: 0.7225 Acc: 0.7400\n",
            "\n",
            "Epoch 9/24\n",
            "train Loss: 0.6701 Acc: 0.7458\n",
            "val Loss: 0.7555 Acc: 0.7267\n",
            "\n",
            "Epoch 10/24\n",
            "train Loss: 0.7055 Acc: 0.7224\n",
            "val Loss: 0.7507 Acc: 0.7400\n",
            "\n",
            "Epoch 11/24\n",
            "train Loss: 0.6129 Acc: 0.7659\n",
            "val Loss: 0.7717 Acc: 0.7033\n",
            "\n",
            "Epoch 12/24\n",
            "train Loss: 0.6309 Acc: 0.7584\n",
            "val Loss: 0.7792 Acc: 0.7233\n",
            "\n",
            "Epoch 13/24\n",
            "train Loss: 0.5784 Acc: 0.7734\n",
            "val Loss: 0.7724 Acc: 0.7200\n",
            "\n",
            "Epoch 14/24\n",
            "train Loss: 0.5434 Acc: 0.7885\n",
            "val Loss: 0.8553 Acc: 0.6833\n",
            "\n",
            "Epoch 15/24\n",
            "train Loss: 0.5531 Acc: 0.7876\n",
            "val Loss: 0.8560 Acc: 0.7300\n",
            "\n",
            "Epoch 16/24\n",
            "train Loss: 0.5554 Acc: 0.7851\n",
            "val Loss: 0.7781 Acc: 0.7433\n",
            "\n",
            "Epoch 17/24\n",
            "train Loss: 0.5059 Acc: 0.8060\n",
            "val Loss: 0.8587 Acc: 0.7133\n",
            "\n",
            "Epoch 18/24\n",
            "train Loss: 0.5153 Acc: 0.7993\n",
            "val Loss: 0.8087 Acc: 0.6967\n",
            "\n",
            "Epoch 19/24\n",
            "train Loss: 0.5171 Acc: 0.7977\n",
            "val Loss: 0.8582 Acc: 0.6900\n",
            "\n",
            "Epoch 20/24\n",
            "train Loss: 0.4670 Acc: 0.8077\n",
            "val Loss: 0.9254 Acc: 0.7033\n",
            "\n",
            "Epoch 21/24\n",
            "train Loss: 0.4670 Acc: 0.8253\n",
            "val Loss: 0.9632 Acc: 0.6300\n",
            "\n",
            "Epoch 22/24\n",
            "train Loss: 0.4626 Acc: 0.8227\n",
            "val Loss: 0.9475 Acc: 0.7167\n",
            "\n",
            "Epoch 23/24\n",
            "train Loss: 0.4402 Acc: 0.8361\n",
            "val Loss: 0.9036 Acc: 0.7067\n",
            "\n",
            "Epoch 24/24\n",
            "train Loss: 0.4106 Acc: 0.8428\n",
            "val Loss: 0.9752 Acc: 0.7267\n",
            "\n",
            "Training complete in 17m 52s\n",
            "Best val Acc: 0.7433\n"
          ]
        }
      ],
      "source": [
        "# Execute full training\n",
        "if run_training:\n",
        "    model_ft, hist, hist_t,loss_hist,loss_hist_t = train_model(model_ft, dataloaders_dict, criterion, optimizer_ft, num_epochs = epochs, is_inception=(model_name==\"inception\"))"
      ]
    },
    {
      "cell_type": "code",
      "execution_count": null,
      "metadata": {
        "id": "9h0I9hFp5XgJ"
      },
      "outputs": [],
      "source": [
        "if save_weights:\n",
        "    torch.save(model_ft.state_dict(), wts_str)"
      ]
    },
    {
      "cell_type": "markdown",
      "metadata": {
        "id": "CtRfkPTl5XgJ"
      },
      "source": [
        "## Graficar resultados"
      ]
    },
    {
      "cell_type": "code",
      "execution_count": null,
      "metadata": {
        "colab": {
          "base_uri": "https://localhost:8080/",
          "height": 472
        },
        "id": "QjNUGVAe5XgJ",
        "outputId": "e014fba1-f125-446e-a345-8c1490a732e8"
      },
      "outputs": [
        {
          "output_type": "display_data",
          "data": {
            "text/plain": [
              "<Figure size 640x480 with 1 Axes>"
            ],
            "image/png": "[encoded data removed]"
          },
          "metadata": {}
        }
      ],
      "source": [
        "# Plot the training curves of validation accuracy vs. number\n",
        "#  of training epochs for the transfer learning method and\n",
        "#  the model trained from scratch\n",
        "vhist = []\n",
        "thist = []\n",
        "\n",
        "vhist = [h.cpu().numpy() for h in hist]\n",
        "thist = [h.cpu().numpy() for h in hist_t]\n",
        "#shist = [h.cpu().numpy() for h in scratch_hist]\n",
        "\n",
        "np.save('val_history', vhist)\n",
        "np.save('train_history', vhist)\n",
        "\n",
        "plt.title(\"Validation Accuracy vs. Number of Training Epochs\")\n",
        "plt.xlabel(\"Training Epochs\")\n",
        "plt.ylabel(\"Accuracy\")\n",
        "plt.plot(range(1,epochs+1),thist,label=\"Training\")\n",
        "plt.plot(range(1,epochs+1),vhist,label=\"Validation\")\n",
        "plt.ylim((0,1.))\n",
        "plt.xticks(np.arange(1, epochs+1, 1.0))\n",
        "plt.legend()\n",
        "file_name = wts_str + '_acc.png'\n",
        "plt.savefig(file_name)\n",
        "plt.show()\n",
        "\n",
        "\n",
        "#Si la curva de validación comienza a aplanarse mientras la de entrenamiento\n",
        "# sigue aumentando, podría haber signos de sobreajuste\n",
        "# Si hay oscilaciones significativas, el modelo podría beneficiarse\n",
        "# de técnicas como la regularización.\n"
      ]
    },
    {
      "cell_type": "code",
      "execution_count": null,
      "metadata": {
        "colab": {
          "base_uri": "https://localhost:8080/",
          "height": 472
        },
        "id": "3qTDQhk15XgJ",
        "outputId": "257663e4-e62a-485b-f841-e51c15f3bd7d"
      },
      "outputs": [
        {
          "output_type": "display_data",
          "data": {
            "text/plain": [
              "<Figure size 640x480 with 1 Axes>"
            ],
            "image/png": "[encoded data removed]"
          },
          "metadata": {}
        }
      ],
      "source": [
        "# Plot the training curves of validation accuracy vs. number\n",
        "#  of training epochs for the transfer learning method and\n",
        "#  the model trained from scratch\n",
        "vhist_loss = np.array(loss_hist)\n",
        "thist_loss = np.array(loss_hist_t)\n",
        "\n",
        "np.save('val_history', vhist_loss)\n",
        "np.save('train_history', thist_loss)\n",
        "\n",
        "plt.title(\"Validation Loss vs. Number of Training Epochs\")\n",
        "plt.xlabel(\"Training Epochs\")\n",
        "plt.ylabel(\"Loss\")\n",
        "plt.plot(range(1,epochs+1),thist_loss,label=\"Training\")\n",
        "plt.plot(range(1,epochs+1),vhist_loss,label=\"Validation\")\n",
        "plt.ylim((0,4.))\n",
        "plt.xticks(np.arange(1, epochs+1, 1.0))\n",
        "plt.legend()\n",
        "file_name = wts_str + '_loss.png'\n",
        "plt.savefig(file_name)\n",
        "plt.show()"
      ]
    },
    {
      "cell_type": "code",
      "execution_count": null,
      "metadata": {
        "id": "KN-zSCYJ5XgJ"
      },
      "outputs": [],
      "source": [
        "def test_model(model, dataloaders):\n",
        "    print(\"Evaluating model\")\n",
        "    print(time.time())\n",
        "\n",
        "    # Iterate over data\n",
        "    it = 0\n",
        "    for inputs, labels in dataloaders['val']:\n",
        "        inputs = inputs.to(device)\n",
        "        labels = labels.to(device)\n",
        "\n",
        "        model.train(False)\n",
        "        model.eval()\n",
        "\n",
        "        outputs = model(inputs)\n",
        "\n",
        "        _, preds = torch.max(outputs, 1)\n",
        "\n",
        "        np_pred_labels = preds.cpu().numpy()\n",
        "        np_real_labels = labels.cpu().numpy()\n",
        "        if it == 0:\n",
        "            pred_labels = np_pred_labels\n",
        "            real_labels = np_real_labels\n",
        "        else:\n",
        "            pred_labels = np.concatenate((pred_labels,np_pred_labels))\n",
        "            real_labels = np.concatenate((real_labels,np_real_labels))\n",
        "        it= it+1\n",
        "\n",
        "        del inputs\n",
        "        del labels\n",
        "        torch.cuda.empty_cache()\n",
        "\n",
        "    print(time.time())\n",
        "    return pred_labels,real_labels"
      ]
    },
    {
      "cell_type": "code",
      "execution_count": null,
      "metadata": {
        "colab": {
          "base_uri": "https://localhost:8080/"
        },
        "id": "yr983QWZ5XgK",
        "outputId": "33452bd1-ea7d-4483-d696-ea71ff306a90"
      },
      "outputs": [
        {
          "output_type": "stream",
          "name": "stdout",
          "text": [
            "Evaluating model\n",
            "1704767536.908709\n",
            "1704767544.8377957\n"
          ]
        }
      ],
      "source": [
        "predict_labels,actual_labels = test_model(model_ft, dataloaders_dict)"
      ]
    },
    {
      "cell_type": "code",
      "execution_count": null,
      "metadata": {
        "colab": {
          "base_uri": "https://localhost:8080/"
        },
        "id": "94V9mMDb5XgK",
        "outputId": "9daef810-f02f-49b2-df71-abf0ee910d6c"
      },
      "outputs": [
        {
          "output_type": "stream",
          "name": "stdout",
          "text": [
            "              precision    recall  f1-score   support\n",
            "\n",
            "           0       0.80      0.94      0.87       174\n",
            "           1       0.65      0.51      0.57        69\n",
            "           2       0.42      0.32      0.36        31\n",
            "           3       0.71      0.36      0.48        14\n",
            "           4       0.82      0.75      0.78        12\n",
            "\n",
            "    accuracy                           0.74       300\n",
            "   macro avg       0.68      0.58      0.61       300\n",
            "weighted avg       0.72      0.74      0.73       300\n",
            "\n"
          ]
        }
      ],
      "source": [
        "from sklearn.metrics import classification_report\n",
        "print(classification_report(actual_labels,predict_labels))"
      ]
    },
    {
      "cell_type": "code",
      "execution_count": null,
      "metadata": {
        "colab": {
          "base_uri": "https://localhost:8080/"
        },
        "id": "bYJXXUqZ5XgK",
        "outputId": "97c807d6-66f1-4363-bfb5-488dbf3115d5"
      },
      "outputs": [
        {
          "output_type": "stream",
          "name": "stdout",
          "text": [
            "Predicted label    0   1   2  3  4\n",
            "True label                        \n",
            "0                164   9   1  0  0\n",
            "1                 27  35   6  0  1\n",
            "2                 13   7  10  1  0\n",
            "3                  0   3   5  5  1\n",
            "4                  0   0   2  1  9\n",
            "Predicted label  nada  bajo  moderado  abundante  excesivo\n",
            "True label                                                \n",
            "nada              164     9         1          0         0\n",
            "bajo               27    35         6          0         1\n",
            "moderado           13     7        10          1         0\n",
            "abundante           0     3         5          5         1\n",
            "excesivo            0     0         2          1         9\n"
          ]
        }
      ],
      "source": [
        "df_confusion = pd.crosstab(actual_labels, predict_labels,rownames=[\"True label\"],colnames=[\"Predicted label\"])\n",
        "print(df_confusion)\n",
        "df_confusion.rename(columns=id2class,index=id2class,inplace=True)\n",
        "print(df_confusion)\n",
        "df_confusion.to_csv('cm_exp5.csv')"
      ]
    },
    {
      "cell_type": "code",
      "execution_count": null,
      "metadata": {
        "colab": {
          "base_uri": "https://localhost:8080/",
          "height": 560
        },
        "id": "mL0kd4a15XgK",
        "outputId": "e99d68a8-32c9-4bae-af0e-9eecf613141f"
      },
      "outputs": [
        {
          "output_type": "display_data",
          "data": {
            "text/plain": [
              "<Figure size 900x600 with 2 Axes>"
            ],
            "image/png": "[encoded data removed]"
          },
          "metadata": {}
        }
      ],
      "source": [
        "f, ax = plt.subplots(figsize=(9,6))\n",
        "\n",
        "parameters = {'axes.labelsize': 10}\n",
        "plt.rcParams.update(parameters)\n",
        "\n",
        "g = sn.heatmap(df_confusion, annot = True, cmap = 'Blues',ax=ax)\n",
        "g.set_xticklabels(g.get_xticklabels(), rotation=45, horizontalalignment='right')\n",
        "g.set_yticklabels(g.get_yticklabels(), rotation=0, horizontalalignment='right')\n",
        "\n",
        "plt.savefig(\"CM_exp5.eps\",format = \"eps\",bbox_inches='tight')\n",
        "plt.show()"
      ]
    },
    {
      "cell_type": "code",
      "execution_count": null,
      "metadata": {
        "id": "EPc0bfeF5XgK",
        "outputId": "f177679d-f2af-4b76-dffc-a6a6df1fe835",
        "colab": {
          "base_uri": "https://localhost:8080/"
        }
      },
      "outputs": [
        {
          "output_type": "stream",
          "name": "stdout",
          "text": [
            "Predicted label  nada  bajo  moderado  abundante  excesivo\n",
            "True label                                                \n",
            "nada             0.94  0.05      0.01       0.00      0.00\n",
            "bajo             0.39  0.51      0.09       0.00      0.01\n",
            "moderado         0.42  0.23      0.32       0.03      0.00\n",
            "abundante        0.00  0.21      0.36       0.36      0.07\n",
            "excesivo         0.00  0.00      0.17       0.08      0.75\n"
          ]
        }
      ],
      "source": [
        "df_norm_col= round(df_confusion.div(df_confusion.sum(axis=1),axis=0),2)\n",
        "print(df_norm_col)"
      ]
    },
    {
      "cell_type": "code",
      "execution_count": null,
      "metadata": {
        "id": "lkBdRuey5XgL",
        "outputId": "adc9f6e0-cd9d-4a98-cf0a-984553b63333",
        "colab": {
          "base_uri": "https://localhost:8080/",
          "height": 563
        }
      },
      "outputs": [
        {
          "output_type": "display_data",
          "data": {
            "text/plain": [
              "<Figure size 900x600 with 2 Axes>"
            ],
            "image/png": "[encoded data removed]"
          },
          "metadata": {}
        }
      ],
      "source": [
        "f, ax = plt.subplots(figsize=(9,6))\n",
        "\n",
        "parameters = {'axes.labelsize': 10}\n",
        "plt.rcParams.update(parameters)\n",
        "\n",
        "g = sn.heatmap(df_norm_col, annot = True, cmap = 'Blues')\n",
        "g.set_xticklabels(g.get_xticklabels(), rotation=45, horizontalalignment='right')\n",
        "g.set_yticklabels(g.get_yticklabels(), rotation=0, horizontalalignment='right')\n",
        "\n",
        "plt.savefig(\"CM_exp5_norm.eps\",format = \"eps\",bbox_inches='tight')\n",
        "plt.show()"
      ]
    },
    {
      "cell_type": "markdown",
      "metadata": {
        "id": "OSgsVgRS5XgL"
      },
      "source": [
        "## Inferencia para el challenge"
      ]
    },
    {
      "cell_type": "code",
      "execution_count": null,
      "metadata": {
        "id": "YRSg5L5R5XgL"
      },
      "outputs": [],
      "source": [
        "test_file = '/content/drive/My Drive/sargazo_dataset/sargazo_dataset/labels/test.csv'"
      ]
    },
    {
      "cell_type": "code",
      "execution_count": null,
      "metadata": {
        "id": "53oMT_vd5XgN",
        "outputId": "a539c01a-e3cd-42ea-bec3-9fb40a9987bb",
        "colab": {
          "base_uri": "https://localhost:8080/",
          "height": 206
        }
      },
      "outputs": [
        {
          "output_type": "execute_result",
          "data": {
            "text/plain": [
              "     Unnamed: 0 image_name             place         date\n",
              "26         1170  s0447.jpg  Playa del Carmen   14/08/2019\n",
              "33          183  k0228.jpg       desconocido  desconocido\n",
              "159        1307  s0604.jpg             Tulum   31/08/2019\n",
              "4           387  k0461.jpg       desconocido  desconocido\n",
              "96          121  k0153.jpg       desconocido  desconocido"
            ],
            "text/html": [
              "\n",
              "  <div id=\"df-f1566042-e3f4-4b30-8959-5c3745c65d0e\" class=\"colab-df-container\">\n",
              "    <div>\n",
              "<style scoped>\n",
              "    .dataframe tbody tr th:only-of-type {\n",
              "        vertical-align: middle;\n",
              "    }\n",
              "\n",
              "    .dataframe tbody tr th {\n",
              "        vertical-align: top;\n",
              "    }\n",
              "\n",
              "    .dataframe thead th {\n",
              "        text-align: right;\n",
              "    }\n",
              "</style>\n",
              "<table border=\"1\" class=\"dataframe\">\n",
              "  <thead>\n",
              "    <tr style=\"text-align: right;\">\n",
              "      <th></th>\n",
              "      <th>Unnamed: 0</th>\n",
              "      <th>image_name</th>\n",
              "      <th>place</th>\n",
              "      <th>date</th>\n",
              "    </tr>\n",
              "  </thead>\n",
              "  <tbody>\n",
              "    <tr>\n",
              "      <th>26</th>\n",
              "      <td>1170</td>\n",
              "      <td>s0447.jpg</td>\n",
              "      <td>Playa del Carmen</td>\n",
              "      <td>14/08/2019</td>\n",
              "    </tr>\n",
              "    <tr>\n",
              "      <th>33</th>\n",
              "      <td>183</td>\n",
              "      <td>k0228.jpg</td>\n",
              "      <td>desconocido</td>\n",
              "      <td>desconocido</td>\n",
              "    </tr>\n",
              "    <tr>\n",
              "      <th>159</th>\n",
              "      <td>1307</td>\n",
              "      <td>s0604.jpg</td>\n",
              "      <td>Tulum</td>\n",
              "      <td>31/08/2019</td>\n",
              "    </tr>\n",
              "    <tr>\n",
              "      <th>4</th>\n",
              "      <td>387</td>\n",
              "      <td>k0461.jpg</td>\n",
              "      <td>desconocido</td>\n",
              "      <td>desconocido</td>\n",
              "    </tr>\n",
              "    <tr>\n",
              "      <th>96</th>\n",
              "      <td>121</td>\n",
              "      <td>k0153.jpg</td>\n",
              "      <td>desconocido</td>\n",
              "      <td>desconocido</td>\n",
              "    </tr>\n",
              "  </tbody>\n",
              "</table>\n",
              "</div>\n",
              "    <div class=\"colab-df-buttons\">\n",
              "\n",
              "  <div class=\"colab-df-container\">\n",
              "    <button class=\"colab-df-convert\" onclick=\"convertToInteractive('df-f1566042-e3f4-4b30-8959-5c3745c65d0e')\"\n",
              "            title=\"Convert this dataframe to an interactive table.\"\n",
              "            style=\"display:none;\">\n",
              "\n",
              "  <svg xmlns=\"http://www.w3.org/2000/svg\" height=\"24px\" viewBox=\"0 -960 960 960\">\n",
              "    <path d=\"M120-120v-720h720v720H120Zm60-500h600v-160H180v160Zm220 220h160v-160H400v160Zm0 220h160v-160H400v160ZM180-400h160v-160H180v160Zm440 0h160v-160H620v160ZM180-180h160v-160H180v160Zm440 0h160v-160H620v160Z\"/>\n",
              "  </svg>\n",
              "    </button>\n",
              "\n",
              "  <style>\n",
              "    .colab-df-container {\n",
              "      display:flex;\n",
              "      gap: 12px;\n",
              "    }\n",
              "\n",
              "    .colab-df-convert {\n",
              "      background-color: #E8F0FE;\n",
              "      border: none;\n",
              "      border-radius: 50%;\n",
              "      cursor: pointer;\n",
              "      display: none;\n",
              "      fill: #1967D2;\n",
              "      height: 32px;\n",
              "      padding: 0 0 0 0;\n",
              "      width: 32px;\n",
              "    }\n",
              "\n",
              "    .colab-df-convert:hover {\n",
              "      background-color: #E2EBFA;\n",
              "      box-shadow: 0px 1px 2px rgba(60, 64, 67, 0.3), 0px 1px 3px 1px rgba(60, 64, 67, 0.15);\n",
              "      fill: #174EA6;\n",
              "    }\n",
              "\n",
              "    .colab-df-buttons div {\n",
              "      margin-bottom: 4px;\n",
              "    }\n",
              "\n",
              "    [theme=dark] .colab-df-convert {\n",
              "      background-color: #3B4455;\n",
              "      fill: #D2E3FC;\n",
              "    }\n",
              "\n",
              "    [theme=dark] .colab-df-convert:hover {\n",
              "      background-color: #434B5C;\n",
              "      box-shadow: 0px 1px 3px 1px rgba(0, 0, 0, 0.15);\n",
              "      filter: drop-shadow(0px 1px 2px rgba(0, 0, 0, 0.3));\n",
              "      fill: #FFFFFF;\n",
              "    }\n",
              "  </style>\n",
              "\n",
              "    <script>\n",
              "      const buttonEl =\n",
              "        document.querySelector('#df-f1566042-e3f4-4b30-8959-5c3745c65d0e button.colab-df-convert');\n",
              "      buttonEl.style.display =\n",
              "        google.colab.kernel.accessAllowed ? 'block' : 'none';\n",
              "\n",
              "      async function convertToInteractive(key) {\n",
              "        const element = document.querySelector('#df-f1566042-e3f4-4b30-8959-5c3745c65d0e');\n",
              "        const dataTable =\n",
              "          await google.colab.kernel.invokeFunction('convertToInteractive',\n",
              "                                                    [key], {});\n",
              "        if (!dataTable) return;\n",
              "\n",
              "        const docLinkHtml = 'Like what you see? Visit the ' +\n",
              "          '<a target=\"_blank\" href=https://colab.research.google.com/notebooks/data_table.ipynb>data table notebook</a>'\n",
              "          + ' to learn more about interactive tables.';\n",
              "        element.innerHTML = '';\n",
              "        dataTable['output_type'] = 'display_data';\n",
              "        await google.colab.output.renderOutput(dataTable, element);\n",
              "        const docLink = document.createElement('div');\n",
              "        docLink.innerHTML = docLinkHtml;\n",
              "        element.appendChild(docLink);\n",
              "      }\n",
              "    </script>\n",
              "  </div>\n",
              "\n",
              "\n",
              "<div id=\"df-7e48e018-78aa-4f72-84ee-ac71859a04be\">\n",
              "  <button class=\"colab-df-quickchart\" onclick=\"quickchart('df-7e48e018-78aa-4f72-84ee-ac71859a04be')\"\n",
              "            title=\"Suggest charts\"\n",
              "            style=\"display:none;\">\n",
              "\n",
              "<svg xmlns=\"http://www.w3.org/2000/svg\" height=\"24px\"viewBox=\"0 0 24 24\"\n",
              "     width=\"24px\">\n",
              "    <g>\n",
              "        <path d=\"M19 3H5c-1.1 0-2 .9-2 2v14c0 1.1.9 2 2 2h14c1.1 0 2-.9 2-2V5c0-1.1-.9-2-2-2zM9 17H7v-7h2v7zm4 0h-2V7h2v10zm4 0h-2v-4h2v4z\"/>\n",
              "    </g>\n",
              "</svg>\n",
              "  </button>\n",
              "\n",
              "<style>\n",
              "  .colab-df-quickchart {\n",
              "      --bg-color: #E8F0FE;\n",
              "      --fill-color: #1967D2;\n",
              "      --hover-bg-color: #E2EBFA;\n",
              "      --hover-fill-color: #174EA6;\n",
              "      --disabled-fill-color: #AAA;\n",
              "      --disabled-bg-color: #DDD;\n",
              "  }\n",
              "\n",
              "  [theme=dark] .colab-df-quickchart {\n",
              "      --bg-color: #3B4455;\n",
              "      --fill-color: #D2E3FC;\n",
              "      --hover-bg-color: #434B5C;\n",
              "      --hover-fill-color: #FFFFFF;\n",
              "      --disabled-bg-color: #3B4455;\n",
              "      --disabled-fill-color: #666;\n",
              "  }\n",
              "\n",
              "  .colab-df-quickchart {\n",
              "    background-color: var(--bg-color);\n",
              "    border: none;\n",
              "    border-radius: 50%;\n",
              "    cursor: pointer;\n",
              "    display: none;\n",
              "    fill: var(--fill-color);\n",
              "    height: 32px;\n",
              "    padding: 0;\n",
              "    width: 32px;\n",
              "  }\n",
              "\n",
              "  .colab-df-quickchart:hover {\n",
              "    background-color: var(--hover-bg-color);\n",
              "    box-shadow: 0 1px 2px rgba(60, 64, 67, 0.3), 0 1px 3px 1px rgba(60, 64, 67, 0.15);\n",
              "    fill: var(--button-hover-fill-color);\n",
              "  }\n",
              "\n",
              "  .colab-df-quickchart-complete:disabled,\n",
              "  .colab-df-quickchart-complete:disabled:hover {\n",
              "    background-color: var(--disabled-bg-color);\n",
              "    fill: var(--disabled-fill-color);\n",
              "    box-shadow: none;\n",
              "  }\n",
              "\n",
              "  .colab-df-spinner {\n",
              "    border: 2px solid var(--fill-color);\n",
              "    border-color: transparent;\n",
              "    border-bottom-color: var(--fill-color);\n",
              "    animation:\n",
              "      spin 1s steps(1) infinite;\n",
              "  }\n",
              "\n",
              "  @keyframes spin {\n",
              "    0% {\n",
              "      border-color: transparent;\n",
              "      border-bottom-color: var(--fill-color);\n",
              "      border-left-color: var(--fill-color);\n",
              "    }\n",
              "    20% {\n",
              "      border-color: transparent;\n",
              "      border-left-color: var(--fill-color);\n",
              "      border-top-color: var(--fill-color);\n",
              "    }\n",
              "    30% {\n",
              "      border-color: transparent;\n",
              "      border-left-color: var(--fill-color);\n",
              "      border-top-color: var(--fill-color);\n",
              "      border-right-color: var(--fill-color);\n",
              "    }\n",
              "    40% {\n",
              "      border-color: transparent;\n",
              "      border-right-color: var(--fill-color);\n",
              "      border-top-color: var(--fill-color);\n",
              "    }\n",
              "    60% {\n",
              "      border-color: transparent;\n",
              "      border-right-color: var(--fill-color);\n",
              "    }\n",
              "    80% {\n",
              "      border-color: transparent;\n",
              "      border-right-color: var(--fill-color);\n",
              "      border-bottom-color: var(--fill-color);\n",
              "    }\n",
              "    90% {\n",
              "      border-color: transparent;\n",
              "      border-bottom-color: var(--fill-color);\n",
              "    }\n",
              "  }\n",
              "</style>\n",
              "\n",
              "  <script>\n",
              "    async function quickchart(key) {\n",
              "      const quickchartButtonEl =\n",
              "        document.querySelector('#' + key + ' button');\n",
              "      quickchartButtonEl.disabled = true;  // To prevent multiple clicks.\n",
              "      quickchartButtonEl.classList.add('colab-df-spinner');\n",
              "      try {\n",
              "        const charts = await google.colab.kernel.invokeFunction(\n",
              "            'suggestCharts', [key], {});\n",
              "      } catch (error) {\n",
              "        console.error('Error during call to suggestCharts:', error);\n",
              "      }\n",
              "      quickchartButtonEl.classList.remove('colab-df-spinner');\n",
              "      quickchartButtonEl.classList.add('colab-df-quickchart-complete');\n",
              "    }\n",
              "    (() => {\n",
              "      let quickchartButtonEl =\n",
              "        document.querySelector('#df-7e48e018-78aa-4f72-84ee-ac71859a04be button');\n",
              "      quickchartButtonEl.style.display =\n",
              "        google.colab.kernel.accessAllowed ? 'block' : 'none';\n",
              "    })();\n",
              "  </script>\n",
              "</div>\n",
              "\n",
              "    </div>\n",
              "  </div>\n"
            ]
          },
          "metadata": {},
          "execution_count": 39
        }
      ],
      "source": [
        "test_df = pd.read_csv(test_file)\n",
        "test_df.sample(5)\n"
      ]
    },
    {
      "cell_type": "code",
      "execution_count": null,
      "metadata": {
        "id": "jpV3lQ265XgN"
      },
      "outputs": [],
      "source": [
        "def pil_loader(path):\n",
        "    with open(path, 'rb') as f:\n",
        "        img = Image.open(f)\n",
        "        return img.convert('RGB')\n",
        "\n",
        "\n",
        "model_ft.eval()\n",
        "test_predictions = []\n",
        "for file in test_df['image_name']:\n",
        "\n",
        "    # cuidado si cambia la tabla se debe de cambiar esto\n",
        "    image_path = os.path.join(img_folder, file)\n",
        "    #print(image_path)\n",
        "\n",
        "    image = pil_loader(image_path)\n",
        "    img_transf = data_transforms['val'](image)\n",
        "    img_transf = img_transf.unsqueeze(0)\n",
        "    #print(img_transf.shape)\n",
        "\n",
        "    #print(labels)\n",
        "    img_transf = img_transf.to(device)\n",
        "\n",
        "    outputs = model_ft(img_transf)\n",
        "    #print(outputs)\n",
        "    _, preds = torch.max(outputs, 1)\n",
        "    test_predictions.append(id2class[preds.cpu().numpy()[0]])\n",
        "\n",
        "#print(test_predictions)\n",
        "temp = {'Id': test_df['image_name'], 'Category': test_predictions}\n",
        "output_df = pd.DataFrame(data=temp)\n",
        "output_df.sample(10)\n",
        "\n",
        "output_df.to_csv('outputs.csv', index=False)"
      ]
    },
    {
      "cell_type": "code",
      "execution_count": null,
      "metadata": {
        "id": "b7flj2k-5XgO"
      },
      "outputs": [],
      "source": []
    }
  ],
  "metadata": {
    "colab": {
      "provenance": [],
      "gpuType": "T4"
    },
    "kernelspec": {
      "display_name": "Python 3",
      "name": "python3"
    },
    "language_info": {
      "codemirror_mode": {
        "name": "ipython",
        "version": 3
      },
      "file_extension": ".py",
      "mimetype": "text/x-python",
      "name": "python",
      "nbconvert_exporter": "python",
      "pygments_lexer": "ipython3",
      "version": "3.10.10"
    },
    "accelerator": "GPU"
  },
  "nbformat": 4,
  "nbformat_minor": 0
}